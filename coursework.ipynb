{
 "cells": [
  {
   "cell_type": "markdown",
   "id": "29030b4e",
   "metadata": {},
   "source": [
    "The charts below record cumulative cases by date of issue and cumulative case rates by date of issue. You can control the content of the output data via the cases and rates in the left hand widget. You can also select the output form of the curve via the 'linear' and 'log' options in the right hand widget.\n",
    "\n",
    "Alternatively, you can click on the 'update' button to get the latest data and update the graph.\n",
    "Enjoy yourself! Byebye!"
   ]
  },
  {
   "cell_type": "code",
   "execution_count": 74,
   "id": "40cae761",
   "metadata": {},
   "outputs": [],
   "source": [
    "# import the necessary moduels"
   ]
  },
  {
   "cell_type": "code",
   "execution_count": 75,
   "id": "eee0ba85",
   "metadata": {},
   "outputs": [],
   "source": [
    "from uk_covid19 import Cov19API"
   ]
  },
  {
   "cell_type": "code",
   "execution_count": 76,
   "id": "0c09f572",
   "metadata": {},
   "outputs": [],
   "source": [
    "import json"
   ]
  },
  {
   "cell_type": "code",
   "execution_count": 77,
   "id": "ab89924a",
   "metadata": {},
   "outputs": [],
   "source": [
    "import pandas as pd"
   ]
  },
  {
   "cell_type": "code",
   "execution_count": 78,
   "id": "a4d0a73a",
   "metadata": {},
   "outputs": [],
   "source": [
    "import matplotlib.pyplot as plt"
   ]
  },
  {
   "cell_type": "code",
   "execution_count": 79,
   "id": "0179ff23",
   "metadata": {},
   "outputs": [],
   "source": [
    "import IPython.display as clear_output"
   ]
  },
  {
   "cell_type": "code",
   "execution_count": 80,
   "id": "5510b589",
   "metadata": {},
   "outputs": [],
   "source": [
    "import numpy as np"
   ]
  },
  {
   "cell_type": "code",
   "execution_count": 81,
   "id": "22859c7d",
   "metadata": {},
   "outputs": [],
   "source": [
    "import ipywidgets as wdg"
   ]
  },
  {
   "cell_type": "code",
   "execution_count": 82,
   "id": "b28f9244",
   "metadata": {},
   "outputs": [],
   "source": [
    "# design the filter\n",
    "filters = ['areaType=overview']"
   ]
  },
  {
   "cell_type": "code",
   "execution_count": 83,
   "id": "811e02c7",
   "metadata": {},
   "outputs": [],
   "source": [
    "# design and name the structure\n",
    "structure={\n",
    "    \"date\":\"date\",\n",
    "    \"cases\":\"cumCasesByPublishDate\",\n",
    "    \"rate\":\"cumCasesByPublishDateRate\",\n",
    "    \n",
    "}"
   ]
  },
  {
   "cell_type": "code",
   "execution_count": 84,
   "id": "f5b3f83d",
   "metadata": {},
   "outputs": [],
   "source": [
    "# access the api\n",
    "api=Cov19API(filters=filters, structure=structure)"
   ]
  },
  {
   "cell_type": "code",
   "execution_count": 85,
   "id": "25995a61",
   "metadata": {},
   "outputs": [],
   "source": [
    "timerecord=api.get_json()"
   ]
  },
  {
   "cell_type": "code",
   "execution_count": 86,
   "id": "261b17c2",
   "metadata": {},
   "outputs": [],
   "source": [
    "# store the data as timerecord.json\n",
    "with open('timerecord.json', 'wt') as OUTF:\n",
    "    json.dump(timerecord, OUTF)"
   ]
  },
  {
   "cell_type": "code",
   "execution_count": 87,
   "id": "fd356566",
   "metadata": {},
   "outputs": [],
   "source": [
    "# open the file and load the data\n",
    "with open('timerecord.json', 'rt') as INFILE:\n",
    "    data=json.load(INFILE)"
   ]
  },
  {
   "cell_type": "code",
   "execution_count": 88,
   "id": "ce7a73af",
   "metadata": {},
   "outputs": [],
   "source": [
    "# remove the header\n",
    "datalist=data['data']"
   ]
  },
  {
   "cell_type": "code",
   "execution_count": 89,
   "id": "5e9f6037",
   "metadata": {},
   "outputs": [],
   "source": [
    "# filter out 'date' data\n",
    "dates=[dictionary['date'] for dictionary in datalist]"
   ]
  },
  {
   "cell_type": "code",
   "execution_count": 90,
   "id": "bf401f50",
   "metadata": {},
   "outputs": [],
   "source": [
    "dates.sort()"
   ]
  },
  {
   "cell_type": "code",
   "execution_count": 91,
   "id": "7b9ad300",
   "metadata": {},
   "outputs": [],
   "source": [
    "# convert to the date type under pandas\n",
    "def convert_date(datestring):\n",
    "    return pd.to_datetime(datestring, format='%Y-%m-%d')"
   ]
  },
  {
   "cell_type": "code",
   "execution_count": 92,
   "id": "5db97e5e",
   "metadata": {},
   "outputs": [],
   "source": [
    "# find out the start date and the end date\n",
    "fromdate=convert_date(dates[0])\n",
    "todate=convert_date(dates[-1])"
   ]
  },
  {
   "cell_type": "code",
   "execution_count": 93,
   "id": "c4e0be5e",
   "metadata": {},
   "outputs": [
    {
     "data": {
      "text/plain": [
       "DatetimeIndex(['2020-01-31', '2020-02-01', '2020-02-02', '2020-02-03',\n",
       "               '2020-02-04', '2020-02-05', '2020-02-06', '2020-02-07',\n",
       "               '2020-02-08', '2020-02-09',\n",
       "               ...\n",
       "               '2022-05-11', '2022-05-12', '2022-05-13', '2022-05-14',\n",
       "               '2022-05-15', '2022-05-16', '2022-05-17', '2022-05-18',\n",
       "               '2022-05-19', '2022-05-20'],\n",
       "              dtype='datetime64[ns]', length=841, freq='D')"
      ]
     },
     "execution_count": 93,
     "metadata": {},
     "output_type": "execute_result"
    }
   ],
   "source": [
    "# use the end numbers as index\n",
    "ranknumber=pd.date_range(fromdate, todate, freq='D')\n",
    "ranknumber"
   ]
  },
  {
   "cell_type": "code",
   "execution_count": 94,
   "id": "87efa9c1",
   "metadata": {},
   "outputs": [],
   "source": [
    "# create an empty dataframe\n",
    "timerecorddf=pd.DataFrame(index=ranknumber, columns=['cases', 'rate'])"
   ]
  },
  {
   "cell_type": "code",
   "execution_count": 95,
   "id": "3baecf14",
   "metadata": {},
   "outputs": [],
   "source": [
    "for element in datalist:\n",
    "    date=convert_date(element['date'])\n",
    "    for column in ['cases', 'rate']:\n",
    "        value=float(element[column]) if element[column]!=None else 0.0\n",
    "        timerecorddf.loc[date, column]=value"
   ]
  },
  {
   "cell_type": "code",
   "execution_count": 96,
   "id": "e24822a5",
   "metadata": {},
   "outputs": [],
   "source": [
    "# timerecorddf.plot"
   ]
  },
  {
   "cell_type": "code",
   "execution_count": 97,
   "id": "3099ebcb",
   "metadata": {},
   "outputs": [],
   "source": [
    "# create SelectMultiple controls\n",
    "Variables=wdg.SelectMultiple(\n",
    "    options=['cases', 'rate'],\n",
    "    value=['cases', 'rate'],\n",
    "    rows=2,\n",
    "    description='Valuables: ',\n",
    "    disabled=False\n",
    ")"
   ]
  },
  {
   "cell_type": "code",
   "execution_count": 98,
   "id": "1b73be7a",
   "metadata": {},
   "outputs": [],
   "source": [
    "# create RadioButtons controls\n",
    "Type=wdg.RadioButtons(\n",
    "    options=['linear','log'],\n",
    "    \n",
    "    discription='Type: ',\n",
    "    disabled=False)"
   ]
  },
  {
   "cell_type": "code",
   "execution_count": 99,
   "id": "cda161f3",
   "metadata": {},
   "outputs": [],
   "source": [
    "# horizontally place the two controls\n",
    "position=wdg.HBox([Variables, Type])"
   ]
  },
  {
   "cell_type": "code",
   "execution_count": 100,
   "id": "7424683a",
   "metadata": {},
   "outputs": [],
   "source": [
    "# When users change the selection, graph update\n",
    "def timerecord_graph(count, graphtype):\n",
    "    if graphtype=='linear':\n",
    "        logType=False\n",
    "    else:\n",
    "        logType=True\n",
    "    n=len(count)\n",
    "    if n>0:\n",
    "        timerecorddf[list(count)].plot(logy=logType)\n",
    "        plt.show()\n",
    "    else:\n",
    "         print(\"Click to select something\")            "
   ]
  },
  {
   "cell_type": "code",
   "execution_count": 101,
   "id": "b0317e86",
   "metadata": {},
   "outputs": [],
   "source": [
    "graph=wdg.interactive_output(timerecord_graph, {'count':Variables, 'graphtype':Type})"
   ]
  },
  {
   "cell_type": "code",
   "execution_count": 102,
   "id": "ad21d4dc",
   "metadata": {},
   "outputs": [],
   "source": [
    "# dashboard part"
   ]
  },
  {
   "cell_type": "code",
   "execution_count": 103,
   "id": "2b309f3d",
   "metadata": {},
   "outputs": [],
   "source": [
    "# go to PHE and get the latest api data\n",
    "def access_api():\n",
    "    filters = ['areaType=overview']\n",
    "    structure={\n",
    "    \"date\":\"date\",\n",
    "    'cases':'cumCasesByPublishDate',\n",
    "    'rate':'cumCasesByPublishDateRate',\n",
    "    \n",
    "}\n",
    "    api=Cov19API(filters=filters, structure=structure)\n",
    "    \n",
    "    timerecord=api.get_json()\n",
    "    with open('timerecord.json', 'wt') as OUTF:\n",
    "        json.dump(timerecord, OUTF)\n",
    "    with open('timerecord.json', 'rt') as INFILE:\n",
    "        data=json.load(INFILE)\n",
    "#     最后得到的是新的api数据\n",
    "    return data"
   ]
  },
  {
   "cell_type": "code",
   "execution_count": 104,
   "id": "a0f67654",
   "metadata": {},
   "outputs": [],
   "source": [
    "# create empty dataframe and fill it with values\n",
    "def wrangle_data():\n",
    "    data=access_api()\n",
    "    datalist=data['data']\n",
    "    dates=[dictionary['date'] for dictionary in datalist]\n",
    "    dates.sort()\n",
    "    fromdate=convert_date(dates[0])\n",
    "    todate=convert_date(dates[-1])\n",
    "    ranknumber=pd.date_range(fromdate, todate, freq='D')\n",
    "    timerecorddf=pd.DataFrame(index=ranknumber, columns=['cases', 'rate'])\n",
    "    for element in datalist:\n",
    "        date=convert_date(element['date'])\n",
    "        for column in ['cases','rate']:\n",
    "            if pd.isna(timerecorddf.loc[date, column]):\n",
    "                value=float(element[column]) if element[column]!=None else 0.0\n",
    "                timerecorddf.loc[date, column]=value\n",
    "    timerecorddf.fillna(0.0, inplace=True)\n",
    "    return  timerecorddf"
   ]
  },
  {
   "cell_type": "code",
   "execution_count": 105,
   "id": "b7c80946",
   "metadata": {},
   "outputs": [],
   "source": [
    "# A function that updates the graph\n",
    "def refresh_graph():\n",
    "    current=Variables.value\n",
    "    if current==Variables.options:\n",
    "        other=Variables.options\n",
    "    else:\n",
    "        other=Variables.options\n",
    "    Variables.value=other\n",
    "    Variables.value=current"
   ]
  },
  {
   "cell_type": "code",
   "execution_count": 106,
   "id": "ddb77a85",
   "metadata": {},
   "outputs": [],
   "source": [
    "# callback fuction, when users click the button, call back series of fucntions below.\n",
    "def api_button_callback(button):\n",
    "    global timerecorddf\n",
    "    timerecorddf=wrangle_data()\n",
    "    refresh_graph()\n",
    "    apibutton.icon=\"check\"\n",
    "    apibutton.disabled=True"
   ]
  },
  {
   "cell_type": "code",
   "execution_count": 107,
   "id": "f86efeca",
   "metadata": {},
   "outputs": [],
   "source": [
    "# create a button\n",
    "apibutton=wdg.Button(\n",
    "    description='update',\n",
    "    disabled=False,\n",
    "    button_style='success',\n",
    "    tooltip='Click to update the latest data from PHE',\n",
    "    icon='download'\n",
    ")\n"
   ]
  },
  {
   "cell_type": "code",
   "execution_count": 108,
   "id": "baba4ba3",
   "metadata": {},
   "outputs": [
    {
     "data": {
      "application/vnd.jupyter.widget-view+json": {
       "model_id": "6f2bf4db039646eaa335c55522281cb0",
       "version_major": 2,
       "version_minor": 0
      },
      "text/plain": [
       "Button(button_style='success', description='update', icon='download', style=ButtonStyle(), tooltip='Click to u…"
      ]
     },
     "metadata": {},
     "output_type": "display_data"
    }
   ],
   "source": [
    "# connect the callback function with the button\n",
    "apibutton.on_click(api_button_callback)\n",
    "display(apibutton)\n"
   ]
  },
  {
   "cell_type": "code",
   "execution_count": 109,
   "id": "13df022f",
   "metadata": {},
   "outputs": [
    {
     "data": {
      "application/vnd.jupyter.widget-view+json": {
       "model_id": "a42b5ab5cdbb450b8c6173c2f7f26542",
       "version_major": 2,
       "version_minor": 0
      },
      "text/plain": [
       "HBox(children=(SelectMultiple(description='Valuables: ', index=(0, 1), options=('cases', 'rate'), rows=2, valu…"
      ]
     },
     "metadata": {},
     "output_type": "display_data"
    },
    {
     "data": {
      "application/vnd.jupyter.widget-view+json": {
       "model_id": "07c404fd129d474b8cafa91ac7473963",
       "version_major": 2,
       "version_minor": 0
      },
      "text/plain": [
       "Output()"
      ]
     },
     "metadata": {},
     "output_type": "display_data"
    }
   ],
   "source": [
    "# show what we make\n",
    "display(position, graph)"
   ]
  },
  {
   "cell_type": "code",
   "execution_count": null,
   "id": "0aeb18da",
   "metadata": {},
   "outputs": [],
   "source": []
  },
  {
   "cell_type": "code",
   "execution_count": null,
   "id": "1427f076",
   "metadata": {},
   "outputs": [],
   "source": []
  }
 ],
 "metadata": {
  "kernelspec": {
   "display_name": "Python 3 (ipykernel)",
   "language": "python",
   "name": "python3"
  },
  "language_info": {
   "codemirror_mode": {
    "name": "ipython",
    "version": 3
   },
   "file_extension": ".py",
   "mimetype": "text/x-python",
   "name": "python",
   "nbconvert_exporter": "python",
   "pygments_lexer": "ipython3",
   "version": "3.9.13"
  }
 },
 "nbformat": 4,
 "nbformat_minor": 5
}
